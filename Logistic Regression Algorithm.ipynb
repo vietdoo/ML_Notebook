{
  "nbformat": 4,
  "nbformat_minor": 0,
  "metadata": {
    "colab": {
      "name": "Python Test <Av>",
      "provenance": [],
      "authorship_tag": "ABX9TyPeiF1R8X5Z/oTCJvlHi8QA",
      "include_colab_link": true
    },
    "kernelspec": {
      "display_name": "Python 3",
      "name": "python3"
    },
    "language_info": {
      "name": "python"
    }
  },
  "cells": [
    {
      "cell_type": "markdown",
      "metadata": {
        "id": "view-in-github",
        "colab_type": "text"
      },
      "source": [
        "<a href=\"https://colab.research.google.com/github/vietdoo/ML_Notebook/blob/main/Logistic%20Regression%20Algorithm.ipynb\" target=\"_parent\"><img src=\"https://colab.research.google.com/assets/colab-badge.svg\" alt=\"Open In Colab\"/></a>"
      ]
    },
    {
      "cell_type": "code",
      "metadata": {
        "id": "BhFHLNPPoatY"
      },
      "source": [
        "import numpy as np\n",
        "import matplotlib.pyplot as plt\n",
        "import h5py\n",
        "import scipy\n",
        "from PIL import Image\n",
        "from scipy import ndimage\n"
      ],
      "execution_count": null,
      "outputs": []
    },
    {
      "cell_type": "markdown",
      "metadata": {
        "id": "7UXskuYHsSni"
      },
      "source": [
        "download dataset meo"
      ]
    },
    {
      "cell_type": "code",
      "metadata": {
        "colab": {
          "base_uri": "https://localhost:8080/"
        },
        "id": "hdbaftBAohqY",
        "outputId": "3ca7f9e8-5d5e-4756-ca55-98d3d84cfb3d"
      },
      "source": [
        "!wget -O test_cat.h5 https://github.com/rvarun7777/Deep_Learning/raw/master/Neural%20Networks%20and%20Deep%20Learning/Week%202/Logistic%20Regression%20as%20a%20Neural%20Network/datasets/test_catvnoncat.h5\n",
        "!wget -O train_cat.h5 https://github.com/rvarun7777/Deep_Learning/raw/master/Neural%20Networks%20and%20Deep%20Learning/Week%202/Logistic%20Regression%20as%20a%20Neural%20Network/datasets/train_catvnoncat.h5"
      ],
      "execution_count": null,
      "outputs": [
        {
          "name": "stdout",
          "output_type": "stream",
          "text": [
            "--2021-08-22 07:12:28--  https://github.com/rvarun7777/Deep_Learning/raw/master/Neural%20Networks%20and%20Deep%20Learning/Week%202/Logistic%20Regression%20as%20a%20Neural%20Network/datasets/test_catvnoncat.h5\n",
            "Resolving github.com (github.com)... 192.30.255.112\n",
            "Connecting to github.com (github.com)|192.30.255.112|:443... connected.\n",
            "HTTP request sent, awaiting response... 302 Found\n",
            "Location: https://raw.githubusercontent.com/rvarun7777/Deep_Learning/master/Neural%20Networks%20and%20Deep%20Learning/Week%202/Logistic%20Regression%20as%20a%20Neural%20Network/datasets/test_catvnoncat.h5 [following]\n",
            "--2021-08-22 07:12:28--  https://raw.githubusercontent.com/rvarun7777/Deep_Learning/master/Neural%20Networks%20and%20Deep%20Learning/Week%202/Logistic%20Regression%20as%20a%20Neural%20Network/datasets/test_catvnoncat.h5\n",
            "Resolving raw.githubusercontent.com (raw.githubusercontent.com)... 185.199.108.133, 185.199.109.133, 185.199.110.133, ...\n",
            "Connecting to raw.githubusercontent.com (raw.githubusercontent.com)|185.199.108.133|:443... connected.\n",
            "HTTP request sent, awaiting response... 200 OK\n",
            "Length: 616958 (602K) [application/octet-stream]\n",
            "Saving to: ‘test_cat.h5’\n",
            "\n",
            "test_cat.h5         100%[===================>] 602.50K  --.-KB/s    in 0.03s   \n",
            "\n",
            "2021-08-22 07:12:29 (21.1 MB/s) - ‘test_cat.h5’ saved [616958/616958]\n",
            "\n",
            "--2021-08-22 07:12:29--  https://github.com/rvarun7777/Deep_Learning/raw/master/Neural%20Networks%20and%20Deep%20Learning/Week%202/Logistic%20Regression%20as%20a%20Neural%20Network/datasets/train_catvnoncat.h5\n",
            "Resolving github.com (github.com)... 192.30.255.112\n",
            "Connecting to github.com (github.com)|192.30.255.112|:443... connected.\n",
            "HTTP request sent, awaiting response... 302 Found\n",
            "Location: https://raw.githubusercontent.com/rvarun7777/Deep_Learning/master/Neural%20Networks%20and%20Deep%20Learning/Week%202/Logistic%20Regression%20as%20a%20Neural%20Network/datasets/train_catvnoncat.h5 [following]\n",
            "--2021-08-22 07:12:29--  https://raw.githubusercontent.com/rvarun7777/Deep_Learning/master/Neural%20Networks%20and%20Deep%20Learning/Week%202/Logistic%20Regression%20as%20a%20Neural%20Network/datasets/train_catvnoncat.h5\n",
            "Resolving raw.githubusercontent.com (raw.githubusercontent.com)... 185.199.108.133, 185.199.109.133, 185.199.110.133, ...\n",
            "Connecting to raw.githubusercontent.com (raw.githubusercontent.com)|185.199.108.133|:443... connected.\n",
            "HTTP request sent, awaiting response... 200 OK\n",
            "Length: 2572022 (2.5M) [application/octet-stream]\n",
            "Saving to: ‘train_cat.h5’\n",
            "\n",
            "train_cat.h5        100%[===================>]   2.45M  --.-KB/s    in 0.05s   \n",
            "\n",
            "2021-08-22 07:12:29 (51.8 MB/s) - ‘train_cat.h5’ saved [2572022/2572022]\n",
            "\n"
          ]
        }
      ]
    },
    {
      "cell_type": "markdown",
      "metadata": {
        "id": "dMV1dQ8-sZZo"
      },
      "source": [
        "read dataset"
      ]
    },
    {
      "cell_type": "code",
      "metadata": {
        "id": "iBeY3XQ6onJ6"
      },
      "source": [
        "train_dataset = h5py.File('train_cat.h5', \"r\")\n",
        "test_dataset = h5py.File('test_cat.h5', \"r\")"
      ],
      "execution_count": null,
      "outputs": []
    },
    {
      "cell_type": "code",
      "metadata": {
        "id": "N-wLxioEonu1"
      },
      "source": [
        "train_x = np.array(train_dataset[\"train_set_x\"][:])\n",
        "train_y = np.array(train_dataset[\"train_set_y\"][:])\n",
        "test_x = np.array(test_dataset[\"test_set_x\"][:])\n",
        "test_y = np.array(test_dataset[\"test_set_y\"][:])\n",
        "\n",
        "classes = np.array(test_dataset[\"list_classes\"][:])\n",
        "\n",
        "train_y = train_y.reshape((1, train_y.shape[0]))\n",
        "test_y = test_y.reshape((1, test_y.shape[0]))"
      ],
      "execution_count": null,
      "outputs": []
    },
    {
      "cell_type": "code",
      "metadata": {
        "colab": {
          "base_uri": "https://localhost:8080/",
          "height": 285
        },
        "id": "hAfJsmB-t3y9",
        "outputId": "276a554e-7259-4210-8c76-2d959cb6f486"
      },
      "source": [
        "plt.imshow(train_x[25])\n",
        "print(\"y = \" + str(train_y[:, 25]) + \" => \" + classes[np.squeeze(train_y[:, 25])].decode(\"utf-8\"))"
      ],
      "execution_count": null,
      "outputs": [
        {
          "output_type": "stream",
          "text": [
            "y = [1] => cat\n"
          ],
          "name": "stdout"
        },
        {
          "output_type": "display_data",
          "data": {
            "image/png": "[encoded data removed]",
            "text/plain": [
              "<Figure size 432x288 with 1 Axes>"
            ]
          },
          "metadata": {
            "needs_background": "light"
          }
        }
      ]
    },
    {
      "cell_type": "code",
      "metadata": {
        "colab": {
          "base_uri": "https://localhost:8080/"
        },
        "id": "0023R-kUuplQ",
        "outputId": "04cbf0eb-3de8-4977-b8e4-2a59cd4598cc"
      },
      "source": [
        "m_train = train_x.shape[0] # so anh train\n",
        "m_test = test_x.shape[0]  #test\n",
        "px = train_x.shape[1]  #so px theo chieu ngang/doc (hinh vuong) => px * px * 3 (rgb)\n",
        "print(\"Img size: \", px, px, 3)"
      ],
      "execution_count": null,
      "outputs": [
        {
          "output_type": "stream",
          "text": [
            "Img size:  64 64 3\n"
          ],
          "name": "stdout"
        }
      ]
    },
    {
      "cell_type": "code",
      "metadata": {
        "id": "P52nq8xJvCx3"
      },
      "source": [
        "train_x_ft = train_x.reshape(train_x.shape[0], -1).T \n",
        "#lay shape[0] lam chieu 0, tat con lai * voi nhau => chieu 1\n",
        "#sau do chuyen vi => \n",
        "test_x_ft = test_x.reshape(test_x.shape[0], -1).T"
      ],
      "execution_count": null,
      "outputs": []
    },
    {
      "cell_type": "code",
      "metadata": {
        "id": "xpBZlG-lxufS"
      },
      "source": [
        "train_x_set = train_x_ft/255.\n",
        "test_x_set = test_x_ft/255.\n",
        "#chia 255. => range(0..1)"
      ],
      "execution_count": null,
      "outputs": []
    },
    {
      "cell_type": "code",
      "metadata": {
        "id": "NSIvE1KryUhg"
      },
      "source": [
        "def sigmoid(z):\n",
        "  return 1/(1 + np.exp(-z))"
      ],
      "execution_count": null,
      "outputs": []
    },
    {
      "cell_type": "code",
      "metadata": {
        "colab": {
          "base_uri": "https://localhost:8080/"
        },
        "id": "s2U0G8p1yigx",
        "outputId": "9ab7b1f9-fb3d-4f2c-e201-e5239a2ceaa5"
      },
      "source": [
        "print (\"sigmoid([0, 2]) = \" + str(sigmoid(np.array([0,2]))))\n",
        "#test ham"
      ],
      "execution_count": null,
      "outputs": [
        {
          "output_type": "stream",
          "text": [
            "sigmoid([0, 2]) = [0.5        0.88079708]\n"
          ],
          "name": "stdout"
        }
      ]
    },
    {
      "cell_type": "code",
      "metadata": {
        "id": "3uZO9N96yoYl"
      },
      "source": [
        "def init_zeros(n):\n",
        "  w = np.zeros((n, 1))\n",
        "  b = 0\n",
        "  return w, b"
      ],
      "execution_count": null,
      "outputs": []
    },
    {
      "cell_type": "code",
      "metadata": {
        "id": "F3lcrc5Yy8Mu"
      },
      "source": [
        "def propagate(w, b, X, Y):\n",
        "  m = X.shape[1]\n",
        "  A = sigmoid(np.dot(w.T, X) + b)\n",
        "  cost = -1./m*np.sum(Y*np.log(A) + (1 - Y)*np.log(1 - A))\n",
        "\n",
        "  dw = 1./m*np.dot(X, (A - Y).T)\n",
        "  db = 1./m*np.sum(A - Y)\n",
        "\n",
        "  grads = {\"dw\": dw,\n",
        "           \"db\": db}\n",
        "  return grads, cost"
      ],
      "execution_count": null,
      "outputs": []
    },
    {
      "cell_type": "code",
      "metadata": {
        "colab": {
          "base_uri": "https://localhost:8080/"
        },
        "id": "8SsLhXFv0Eb_",
        "outputId": "0f59c6f4-fd29-42e4-ede4-b4c68ae66995"
      },
      "source": [
        "w, b, X, Y = np.array([[1],[2]]), 2, np.array([[1,2],[3,4]]), np.array([[1,0]])\n",
        "grads, cost = propagate(w, b, X, Y)\n",
        "print(\"dw: \", grads[\"dw\"])\n",
        "print(\"db: \", grads[\"db\"])\n",
        "print(\"cost: \", cost)"
      ],
      "execution_count": null,
      "outputs": [
        {
          "output_type": "stream",
          "text": [
            "dw:  [[0.99993216]\n",
            " [1.99980262]]\n",
            "db:  0.49993523062470574\n",
            "cost:  6.000064773192205\n"
          ],
          "name": "stdout"
        }
      ]
    },
    {
      "cell_type": "code",
      "metadata": {
        "id": "sqK3oqMx0sPM"
      },
      "source": [
        "def optimize(w, b, X, Y, repeat, learning_rate, print_cost = False):\n",
        "  costs = []\n",
        "\n",
        "  for i in range(repeat):\n",
        "    grads, cost = propagate(w, b, X, Y)\n",
        "\n",
        "    dw = grads[\"dw\"]\n",
        "    db = grads[\"db\"]\n",
        "    \n",
        "    w = w - learning_rate * dw\n",
        "    b = b - learning_rate * db\n",
        "    if i % 100 == 0:\n",
        "      costs.append(cost)\n",
        "    if (print_cost and i % 100 == 0):\n",
        "      print(i, \"train - cost: \",cost)\n",
        "  \n",
        "  params = {\"w\": w,\n",
        "            \"b\": b}\n",
        "  \n",
        "  grads = {\"dw\": dw,\n",
        "           \"db\": db}\n",
        "\n",
        "  return params, grads, costs"
      ],
      "execution_count": null,
      "outputs": []
    },
    {
      "cell_type": "code",
      "metadata": {
        "colab": {
          "base_uri": "https://localhost:8080/"
        },
        "id": "Tu6I9IXZ1n5c",
        "outputId": "9f2714ea-3300-4211-d0ad-746e4f9d9de6"
      },
      "source": [
        "params, grads, costs = optimize(w, b, X, Y, repeat = 100, learning_rate = 0.009, print_cost = False)\n",
        "print (\"w = \" + str(params[\"w\"]))\n",
        "print (\"b = \" + str(params[\"b\"]))\n",
        "print (\"dw = \" + str(grads[\"dw\"]))\n",
        "print (\"db = \" + str(grads[\"db\"]))"
      ],
      "execution_count": null,
      "outputs": [
        {
          "output_type": "stream",
          "text": [
            "0 train - cost:  6.000064773192205\n",
            "w = [[0.1124579 ]\n",
            " [0.23106775]]\n",
            "b = 1.5593049248448891\n",
            "dw = [[0.90158428]\n",
            " [1.76250842]]\n",
            "db = 0.4304620716786828\n"
          ],
          "name": "stdout"
        }
      ]
    },
    {
      "cell_type": "code",
      "metadata": {
        "id": "EmnVXhRe2CHi"
      },
      "source": [
        "def predict(w, b, X):\n",
        "  m = X.shape[1]\n",
        "  Y_predict =  np.zeros((1, m))\n",
        "  w = w.reshape(X.shape[0], 1)\n",
        "  A = sigmoid(np.dot(w.T, X) + b)\n",
        "\n",
        "  for i in range(A.shape[1]):\n",
        "    if (A[0, i] > 0.5):\n",
        "      Y_predict[0, i] = 1\n",
        "    else:\n",
        "      Y_predict[0, i] = 0\n",
        "  return Y_predict"
      ],
      "execution_count": null,
      "outputs": []
    },
    {
      "cell_type": "code",
      "metadata": {
        "colab": {
          "base_uri": "https://localhost:8080/"
        },
        "id": "sVtaDXpq2WkL",
        "outputId": "d238ac7e-1951-4685-cc74-cf441f8ae0c0"
      },
      "source": [
        "print (\"predictions = \" + str(predict(w, b, X)))"
      ],
      "execution_count": null,
      "outputs": [
        {
          "output_type": "stream",
          "text": [
            "predictions = [[1. 1.]]\n"
          ],
          "name": "stdout"
        }
      ]
    },
    {
      "cell_type": "code",
      "metadata": {
        "id": "uFva8Av92utj"
      },
      "source": [
        "def model(x_train, y_train, x_test, y_test, repeat = 2000, learning_rate = 0.5, print_cost = False):\n",
        "\n",
        "  w, b = init_zeros(x_train.shape[0])\n",
        "  parameters, grads, costs = optimize(w, b, x_train, y_train, repeat, learning_rate, print_cost=print_cost)\n",
        "\n",
        "  w = parameters[\"w\"]\n",
        "  b = parameters[\"b\"]\n",
        "\n",
        "  yhat_test = predict(w, b, x_test)\n",
        "  yhat_train = predict(w, b, x_train)\n",
        "\n",
        "  print(\"Train accuracy: {} %\".format(100 - 100*np.mean(np.abs(yhat_train - y_train))))\n",
        "  print(\"Test accuracy: {} %\".format(100 - 100*np.mean(np.abs(yhat_test - y_test))))\n",
        "  d = {\"costs\": costs,\n",
        "         \"yhat_test\": yhat_test, \n",
        "         \"yhat_train\" : yhat_train, \n",
        "         \"w\" : w, \n",
        "         \"b\" : b,\n",
        "         \"learning_rate\" : learning_rate,\n",
        "         \"repeat\": repeat}\n",
        "  return d"
      ],
      "execution_count": null,
      "outputs": []
    },
    {
      "cell_type": "code",
      "metadata": {
        "colab": {
          "base_uri": "https://localhost:8080/"
        },
        "id": "o-7ClObj3x5N",
        "outputId": "751ba7ed-9e3c-46c1-9bcf-2f34f7f93860"
      },
      "source": [
        "d = model(train_x_set, train_y, test_x_set, test_y, 2000, 0.004, True)"
      ],
      "execution_count": null,
      "outputs": [
        {
          "output_type": "stream",
          "text": [
            "0 train - cost:  0.6931471805599453\n",
            "100 train - cost:  0.5067645883831419\n",
            "200 train - cost:  0.4422689212945626\n",
            "300 train - cost:  0.39720105682274426\n",
            "400 train - cost:  0.3624394101236163\n",
            "500 train - cost:  0.3342713507722279\n",
            "600 train - cost:  0.3107252756897317\n",
            "700 train - cost:  0.29060824036293925\n",
            "800 train - cost:  0.273137693114055\n",
            "900 train - cost:  0.2577705277181775\n",
            "1000 train - cost:  0.24411364620607814\n",
            "1100 train - cost:  0.23187308366991685\n",
            "1200 train - cost:  0.22082318168476647\n",
            "1300 train - cost:  0.21078695342839807\n",
            "1400 train - cost:  0.2016230599681651\n",
            "1500 train - cost:  0.19321687776354446\n",
            "1600 train - cost:  0.18547419845031674\n",
            "1700 train - cost:  0.17831667895611145\n",
            "1800 train - cost:  0.17167848863214222\n",
            "1900 train - cost:  0.16550379492171552\n",
            "Train accuracy: 98.08612440191388 %\n",
            "Test accuracy: 70.0 %\n"
          ],
          "name": "stdout"
        }
      ]
    },
    {
      "cell_type": "code",
      "metadata": {
        "colab": {
          "base_uri": "https://localhost:8080/",
          "height": 363
        },
        "id": "bxsjAAsg39tx",
        "outputId": "c9815a85-a410-4fed-e5e5-fbe9c17dbf3b"
      },
      "source": [
        "costs = np.squeeze(d['costs'])\n",
        "plt.plot(costs)\n",
        "plt.ylabel('cost')\n",
        "plt.xlabel('iterations (per hundreds)')\n",
        "plt.title(\"Learning rate =\" + str(d[\"learning_rate\"]))\n",
        "plt.show()\n",
        "costs"
      ],
      "execution_count": null,
      "outputs": [
        {
          "output_type": "display_data",
          "data": {
            "image/png": "[encoded data removed]",
            "text/plain": [
              "<Figure size 432x288 with 1 Axes>"
            ]
          },
          "metadata": {
            "needs_background": "light"
          }
        },
        {
          "output_type": "execute_result",
          "data": {
            "text/plain": [
              "array([0.69314718, 0.50676459, 0.44226892, 0.39720106, 0.36243941,\n",
              "       0.33427135, 0.31072528, 0.29060824, 0.27313769, 0.25777053,\n",
              "       0.24411365, 0.23187308, 0.22082318, 0.21078695, 0.20162306,\n",
              "       0.19321688, 0.1854742 , 0.17831668, 0.17167849, 0.16550379])"
            ]
          },
          "metadata": {},
          "execution_count": 158
        }
      ]
    },
    {
      "cell_type": "code",
      "metadata": {
        "id": "jW8SW1FY7STd"
      },
      "source": [
        ""
      ],
      "execution_count": null,
      "outputs": []
    }
  ]
}