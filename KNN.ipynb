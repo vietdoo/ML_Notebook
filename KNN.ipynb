{
  "nbformat": 4,
  "nbformat_minor": 0,
  "metadata": {
    "colab": {
      "name": "KNN - ML",
      "provenance": [],
      "collapsed_sections": []
    },
    "kernelspec": {
      "display_name": "Python 3",
      "name": "python3"
    }
  },
  "cells": [
    {
      "cell_type": "code",
      "metadata": {
        "id": "2wN6yOkwImSP",
        "colab": {
          "base_uri": "https://localhost:8080/"
        },
        "outputId": "d558f3f3-61f3-4e22-b75c-7271b0d471a0"
      },
      "source": [
        "import numpy as np\n",
        "import matplotlib.pyplot as plt\n",
        "import pandas as pd\n",
        "from sklearn import preprocessing\n",
        "\n",
        "print(\"done\")"
      ],
      "execution_count": null,
      "outputs": [
        {
          "output_type": "stream",
          "text": [
            "done\n"
          ],
          "name": "stdout"
        }
      ]
    },
    {
      "cell_type": "code",
      "metadata": {
        "id": "7Wybx3qHJHFg",
        "colab": {
          "base_uri": "https://localhost:8080/"
        },
        "outputId": "bad81246-9309-4e9e-8e16-e3a8e170059b"
      },
      "source": [
        "!wget -O data.csv https://cf-courses-data.s3.us.cloud-object-storage.appdomain.cloud/IBMDeveloperSkillsNetwork-ML0101EN-SkillsNetwork/labs/Module%203/data/teleCust1000t.csv\n"
      ],
      "execution_count": null,
      "outputs": [
        {
          "output_type": "stream",
          "text": [
            "--2021-08-05 08:07:15--  https://cf-courses-data.s3.us.cloud-object-storage.appdomain.cloud/IBMDeveloperSkillsNetwork-ML0101EN-SkillsNetwork/labs/Module%203/data/teleCust1000t.csv\n",
            "Resolving cf-courses-data.s3.us.cloud-object-storage.appdomain.cloud (cf-courses-data.s3.us.cloud-object-storage.appdomain.cloud)... 169.63.118.104\n",
            "Connecting to cf-courses-data.s3.us.cloud-object-storage.appdomain.cloud (cf-courses-data.s3.us.cloud-object-storage.appdomain.cloud)|169.63.118.104|:443... connected.\n",
            "HTTP request sent, awaiting response... 200 OK\n",
            "Length: 36047 (35K) [text/csv]\n",
            "Saving to: ‘data.csv’\n",
            "\n",
            "data.csv            100%[===================>]  35.20K  --.-KB/s    in 0.002s  \n",
            "\n",
            "2021-08-05 08:07:15 (18.9 MB/s) - ‘data.csv’ saved [36047/36047]\n",
            "\n"
          ],
          "name": "stdout"
        }
      ]
    },
    {
      "cell_type": "code",
      "metadata": {
        "id": "D-rrfnY3JQE5"
      },
      "source": [
        "df = pd.read_csv('data.csv')"
      ],
      "execution_count": null,
      "outputs": []
    },
    {
      "cell_type": "code",
      "metadata": {
        "id": "UXIvUjDXJaM4"
      },
      "source": [
        "df['custcat'].value_counts()\n",
        "#df.hist(column = 'income', bins = 50, color = 'r')\n",
        "df.columns\n",
        "x = df[['region', 'tenure','age', 'marital', 'address', 'income', 'ed', 'employ','retire', 'gender', 'reside']] .values \n",
        "y = df['custcat'].values\n"
      ],
      "execution_count": null,
      "outputs": []
    },
    {
      "cell_type": "code",
      "metadata": {
        "id": "4zwsc0bMKcYF"
      },
      "source": [
        "x = preprocessing.StandardScaler().fit(x).transform(x.astype(float))"
      ],
      "execution_count": null,
      "outputs": []
    },
    {
      "cell_type": "code",
      "metadata": {
        "id": "AmrmmIgqK6wb"
      },
      "source": [
        "from sklearn.model_selection import train_test_split\n",
        "x_train, x_test, y_train, y_test = train_test_split(x, y, test_size = 0.2, random_state = 4)\n"
      ],
      "execution_count": null,
      "outputs": []
    },
    {
      "cell_type": "code",
      "metadata": {
        "id": "bPHO_OgZLdRu"
      },
      "source": [
        "from sklearn.neighbors import KNeighborsClassifier"
      ],
      "execution_count": null,
      "outputs": []
    },
    {
      "cell_type": "code",
      "metadata": {
        "id": "uocag5OALhhK",
        "colab": {
          "base_uri": "https://localhost:8080/"
        },
        "outputId": "58f1bdd5-278a-40c6-aed7-8057aba80a79"
      },
      "source": [
        "k = 4 \n",
        "neigh = KNeighborsClassifier(n_neighbors=k).fit(x_train, y_train)\n",
        "neigh"
      ],
      "execution_count": null,
      "outputs": [
        {
          "output_type": "execute_result",
          "data": {
            "text/plain": [
              "KNeighborsClassifier(algorithm='auto', leaf_size=30, metric='minkowski',\n",
              "                     metric_params=None, n_jobs=None, n_neighbors=4, p=2,\n",
              "                     weights='uniform')"
            ]
          },
          "metadata": {
            "tags": []
          },
          "execution_count": 10
        }
      ]
    },
    {
      "cell_type": "code",
      "metadata": {
        "id": "VVn54zutLwPk",
        "colab": {
          "base_uri": "https://localhost:8080/"
        },
        "outputId": "e1e57f73-5e44-4fe6-bad5-c5427f8a14c1"
      },
      "source": [
        "yhat = neigh.predict(x_test)\n",
        "yhat"
      ],
      "execution_count": null,
      "outputs": [
        {
          "output_type": "execute_result",
          "data": {
            "text/plain": [
              "array([1, 1, 3, 2, 4, 3, 3, 2, 2, 4, 1, 4, 2, 1, 3, 1, 3, 4, 3, 4, 3, 3,\n",
              "       3, 1, 1, 3, 1, 1, 1, 2, 1, 1, 4, 4, 3, 2, 3, 1, 2, 3, 1, 4, 2, 1,\n",
              "       2, 1, 4, 1, 4, 4, 2, 1, 2, 3, 2, 3, 3, 3, 4, 1, 1, 4, 2, 3, 3, 1,\n",
              "       1, 2, 2, 1, 1, 3, 4, 3, 2, 1, 4, 2, 2, 3, 3, 1, 2, 4, 4, 2, 3, 4,\n",
              "       1, 1, 2, 2, 1, 1, 1, 1, 2, 2, 3, 1, 1, 4, 1, 1, 1, 4, 2, 2, 2, 2,\n",
              "       1, 3, 2, 4, 1, 2, 1, 1, 2, 3, 4, 2, 2, 3, 1, 1, 2, 3, 1, 3, 3, 1,\n",
              "       1, 4, 2, 2, 2, 1, 1, 3, 1, 1, 4, 1, 1, 2, 1, 3, 2, 2, 1, 2, 2, 3,\n",
              "       2, 3, 3, 3, 3, 2, 3, 1, 1, 1, 3, 4, 1, 1, 3, 1, 3, 3, 1, 2, 2, 2,\n",
              "       1, 1, 1, 1, 1, 1, 1, 2, 3, 1, 1, 1, 4, 4, 3, 1, 1, 3, 3, 4, 1, 4,\n",
              "       3, 3])"
            ]
          },
          "metadata": {
            "tags": []
          },
          "execution_count": 11
        }
      ]
    },
    {
      "cell_type": "code",
      "metadata": {
        "id": "iIiX8EowL2Fq"
      },
      "source": [
        "from sklearn import metrics"
      ],
      "execution_count": null,
      "outputs": []
    },
    {
      "cell_type": "code",
      "metadata": {
        "id": "iAH91hE3L6mx",
        "colab": {
          "base_uri": "https://localhost:8080/"
        },
        "outputId": "8b5f4aed-c4a8-4779-d9f2-2a99bb0eabf9"
      },
      "source": [
        "metrics.accuracy_score(y_train, neigh.predict(x_train))"
      ],
      "execution_count": null,
      "outputs": [
        {
          "output_type": "execute_result",
          "data": {
            "text/plain": [
              "0.5475"
            ]
          },
          "metadata": {
            "tags": []
          },
          "execution_count": 13
        }
      ]
    },
    {
      "cell_type": "code",
      "metadata": {
        "id": "ReAxak81MDPa",
        "colab": {
          "base_uri": "https://localhost:8080/"
        },
        "outputId": "18540b9a-80d6-4e67-9ca7-7f2238ba2b48"
      },
      "source": [
        "metrics.accuracy_score(y_test, neigh.predict(x_test))"
      ],
      "execution_count": null,
      "outputs": [
        {
          "output_type": "execute_result",
          "data": {
            "text/plain": [
              "0.32"
            ]
          },
          "metadata": {
            "tags": []
          },
          "execution_count": 14
        }
      ]
    },
    {
      "cell_type": "code",
      "metadata": {
        "id": "c1JFLHT2MxyI",
        "colab": {
          "base_uri": "https://localhost:8080/"
        },
        "outputId": "546766fc-55c1-44fd-dd69-b79195826163"
      },
      "source": [
        "ks = 10\n",
        "mean_acc = np.zeros(((ks-1)))\n",
        "mean_acc"
      ],
      "execution_count": null,
      "outputs": [
        {
          "output_type": "execute_result",
          "data": {
            "text/plain": [
              "array([0., 0., 0., 0., 0., 0., 0., 0., 0.])"
            ]
          },
          "metadata": {
            "tags": []
          },
          "execution_count": 28
        }
      ]
    },
    {
      "cell_type": "code",
      "metadata": {
        "id": "-CGXhcezM2-f",
        "colab": {
          "base_uri": "https://localhost:8080/"
        },
        "outputId": "eaea0758-e8e5-4a54-d4f1-ef9f109db049"
      },
      "source": [
        "std_acc = np.zeros((ks-1))\n",
        "std_acc\n",
        "for n in range(1, ks):\n",
        "  neigh = KNeighborsClassifier(n_neighbors=n).fit(x_train, y_train)\n",
        "  mean_acc[n-1] = metrics.accuracy_score(y_test, neigh.predict(x_test))\n",
        "  std_acc[n-1] = np.std(neigh.predict(x_test) == y_test)/np.sqrt(neigh.predict(x_test).shape[0])\n",
        "print(mean_acc)\n",
        "print(std_acc)"
      ],
      "execution_count": null,
      "outputs": [
        {
          "output_type": "stream",
          "text": [
            "[False False False False  True False False False False False False False\n",
            "  True False False  True False  True False  True False False False False\n",
            " False False False False False False False False  True False False False\n",
            "  True False False False False  True False False  True False False False\n",
            " False  True False False  True False False False  True  True  True False\n",
            "  True False False  True  True  True False False False False  True False\n",
            "  True False  True False False  True False False False False False  True\n",
            "  True False  True  True False  True False False  True  True False False\n",
            " False False  True False False False  True  True False False  True False\n",
            " False False False False False False  True False False False False False\n",
            " False False  True  True  True False False  True False False  True  True\n",
            " False False False False False False False False False  True False False\n",
            "  True  True False  True False False False False False False  True False\n",
            " False False False False  True  True  True False False  True False False\n",
            "  True False  True False False  True False False False False False  True\n",
            "  True False False False False False False  True  True  True False False\n",
            " False False  True False False False  True  True]\n",
            "[False  True  True  True False False False False False False False False\n",
            " False  True False False False  True  True False False False False False\n",
            " False False False False False False False False False False False False\n",
            " False False False False False False False False  True False False False\n",
            " False  True False False  True False False False False  True  True False\n",
            "  True False False  True False  True False False False False False False\n",
            " False False  True False  True False False False False False False  True\n",
            "  True  True  True  True False False False False False  True False  True\n",
            " False False  True False False  True False False False False  True False\n",
            " False False False  True False False  True  True False  True False  True\n",
            "  True False  True  True False False  True False False False  True  True\n",
            " False False False False  True False False  True False False False False\n",
            "  True False False  True False  True False False False False  True  True\n",
            " False False False False False  True  True False  True  True False False\n",
            "  True False  True False False  True False False False False False  True\n",
            "  True False False False False  True False  True False False False False\n",
            "  True False  True False False False  True False]\n",
            "[False False  True False  True False False False False  True False False\n",
            " False  True False False False False False  True False False  True False\n",
            " False False False False False False False  True  True False False False\n",
            "  True False False False False False  True  True  True False False  True\n",
            " False False  True False  True False False False False  True  True False\n",
            "  True False False  True  True  True False False  True False False False\n",
            "  True False  True False False False False  True False False False  True\n",
            "  True  True False False  True False False False False False False  True\n",
            " False False  True False False False False  True False False False False\n",
            " False False False False False False  True  True False False False  True\n",
            " False  True  True  True False False  True False False  True False  True\n",
            " False False False False  True False False False False False False False\n",
            "  True  True False False  True False False False False False  True  True\n",
            " False False False False  True  True  True False  True  True  True False\n",
            "  True False  True False False  True False  True False False False  True\n",
            "  True False False False False  True False  True False False False False\n",
            "  True False  True False False False False False]\n",
            "[False  True False  True  True False  True False False  True False False\n",
            " False  True False False False False  True  True False False False False\n",
            " False False False False False False  True  True  True False False False\n",
            "  True False False False False  True False  True  True False False False\n",
            " False False  True False  True  True False False False  True False False\n",
            "  True False False  True  True  True False False  True False False False\n",
            "  True  True False False False False False False False False False False\n",
            " False  True  True False  True False False False False  True False  True\n",
            " False False False False False False False False False  True  True False\n",
            " False False False False  True False  True  True False  True False False\n",
            " False False  True  True False False  True False False False False  True\n",
            " False False False False  True False  True  True False False False False\n",
            "  True False False False  True False False False False False  True  True\n",
            " False False False False  True  True  True False False  True False  True\n",
            "  True False False False False  True False  True False False False  True\n",
            "  True False False False False  True False  True False  True False False\n",
            "  True False  True False False False False  True]\n",
            "[False False False False  True False  True False False  True False False\n",
            " False  True False False False False  True  True False False  True False\n",
            " False False False False False False False  True  True False False False\n",
            " False False False False False False  True  True False False  True False\n",
            " False False  True False  True  True False False  True  True  True  True\n",
            "  True False False  True False  True False False  True False False False\n",
            " False  True False False False False False False False False False False\n",
            " False  True  True False  True False False False False  True False  True\n",
            " False False False False False False False False False  True  True False\n",
            " False False False False  True False  True  True False False False False\n",
            " False  True  True  True False False  True False False False False  True\n",
            " False False False False  True  True  True False False False False False\n",
            "  True False False False  True False False False  True False  True  True\n",
            " False False False False False  True  True False  True  True False  True\n",
            "  True False False False False  True False  True False False False  True\n",
            "  True False False False False  True False  True False False False False\n",
            " False False  True False False  True  True  True]\n",
            "[False False False False  True False  True False False  True False False\n",
            " False  True False False  True False  True False False False  True False\n",
            " False False False False False False False  True  True False False False\n",
            "  True False False False False False  True  True False False False False\n",
            " False False  True False  True False False False False  True  True  True\n",
            "  True False False False  True False False  True  True False False False\n",
            "  True  True False False False False False False False False False False\n",
            " False False  True False  True False False False False  True False  True\n",
            " False  True  True  True False False False False False  True  True False\n",
            " False False False False  True False  True  True False False False False\n",
            " False  True  True  True False False  True False False False False  True\n",
            " False False False False False False  True False False False False False\n",
            "  True False False False  True False False False  True  True  True  True\n",
            " False False False False False  True False False  True  True False  True\n",
            "  True False False False False  True False  True False False False  True\n",
            "  True  True False False False  True False  True False False False False\n",
            " False False  True False False  True False  True]\n",
            "[False False False  True  True False  True False  True  True False False\n",
            " False False False False  True False  True False False False  True False\n",
            " False False False False False False False  True  True False False False\n",
            "  True False False False False  True  True  True False False  True False\n",
            " False False  True False  True False False False  True  True  True  True\n",
            "  True False False False  True False False  True False False False False\n",
            "  True  True  True False False False False False False False False False\n",
            " False False  True False  True False False False False  True False  True\n",
            " False False  True  True False False False False False  True  True False\n",
            " False  True False False  True False  True  True False False False False\n",
            " False False  True  True False False False False False False False  True\n",
            " False False False False False False  True False False False False  True\n",
            "  True False False False  True False False False  True  True  True  True\n",
            " False False False False False  True False False  True  True False  True\n",
            "  True False False False False  True  True  True False False False  True\n",
            "  True  True False False False  True False  True False False False False\n",
            " False False  True False False  True  True  True]\n",
            "[False False False  True  True False  True False  True False False False\n",
            " False False False False False False  True False False False  True False\n",
            " False False False False False False False  True  True False False False\n",
            "  True False False False False  True  True  True False False  True False\n",
            " False False  True False  True False False False  True  True  True  True\n",
            "  True False False False  True False False  True False False False False\n",
            " False  True  True False False False False False False False False  True\n",
            " False False  True False  True False False False False  True False  True\n",
            " False  True  True  True False False False False False  True  True False\n",
            " False False False False  True False  True False False False False False\n",
            " False False  True  True False False  True False False False False  True\n",
            " False False  True False False False  True  True False False  True False\n",
            "  True False False False  True False False False  True  True  True  True\n",
            " False False False False False False False False  True  True False  True\n",
            "  True False False False False  True False  True False False False  True\n",
            "  True  True False False False  True False  True False False False False\n",
            " False False  True False False  True  True  True]\n",
            "[False  True False  True  True False  True False  True False False False\n",
            " False False False False False False  True False False False  True False\n",
            " False False False False False False False  True  True False False False\n",
            " False False False False False  True  True  True False  True  True False\n",
            " False False  True False  True False False False False  True  True  True\n",
            "  True False False False  True  True False False  True False False False\n",
            " False  True  True False False False False False False False False  True\n",
            " False False  True False  True False False  True False  True False  True\n",
            " False  True  True  True False False False False False  True False False\n",
            " False False False False  True False  True  True False  True False False\n",
            " False False  True  True False False False False False False False  True\n",
            " False False  True False False False  True  True False False  True False\n",
            "  True False False False  True False False False  True  True False  True\n",
            " False False False False False  True False  True  True  True False  True\n",
            "  True  True False False False  True  True  True False False False  True\n",
            " False  True False False False False False  True False False False  True\n",
            " False False False False False  True  True  True]\n",
            "[0.3   0.29  0.315 0.32  0.315 0.31  0.335 0.325 0.34 ]\n",
            "[0.0324037  0.03208582 0.03284623 0.03298485 0.03284623 0.03270321\n",
            " 0.03337477 0.0331191  0.03349627]\n"
          ],
          "name": "stdout"
        }
      ]
    },
    {
      "cell_type": "code",
      "metadata": {
        "id": "7mjL6ci9M-8K",
        "colab": {
          "base_uri": "https://localhost:8080/",
          "height": 314
        },
        "outputId": "23c3b241-7a0b-40f4-9552-c04c238db2fe"
      },
      "source": [
        "plt.plot(range(1,ks),mean_acc,'g')\n",
        "\n",
        "plt.fill_between(range(1,ks),mean_acc - 3 * std_acc,mean_acc + 3 * std_acc, alpha=0.10,color=\"red\")\n",
        "plt.fill_between(range(1,ks),mean_acc - 1 * std_acc,mean_acc + 1 * std_acc, alpha=0.10,color='blue')\n",
        "plt.legend(('Accuracy ', '+/- 1xstd','+/- 3xstd'))\n",
        "plt.ylabel('Accuracy ')\n",
        "plt.xlabel('Number of Neighbors (K)')\n",
        "plt.tight_layout()\n",
        "plt.show()\n",
        "print( \"The best accuracy was with\", mean_acc.max(), \"with k=\", mean_acc.argmax()+1) "
      ],
      "execution_count": null,
      "outputs": [
        {
          "output_type": "display_data",
          "data": {
            "image/png": "[encoded data removed]",
            "text/plain": [
              "<Figure size 432x288 with 1 Axes>"
            ]
          },
          "metadata": {
            "tags": [],
            "needs_background": "light"
          }
        },
        {
          "output_type": "stream",
          "text": [
            "The best accuracy was with 0.34 with k= 9\n"
          ],
          "name": "stdout"
        }
      ]
    }
  ]
}